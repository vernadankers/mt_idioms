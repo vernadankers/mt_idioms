{
 "cells": [
  {
   "cell_type": "code",
   "execution_count": 1,
   "id": "finite-consensus",
   "metadata": {},
   "outputs": [
    {
     "name": "stderr",
     "output_type": "stream",
     "text": [
      "1000it [00:00, 50132.12it/s]\n",
      "998it [00:00, 52655.01it/s]\n",
      "998it [00:00, 50033.65it/s]\n",
      "1000it [00:00, 37135.81it/s]\n",
      "1000it [00:00, 34574.52it/s]\n",
      "1000it [00:00, 27851.92it/s]\n"
     ]
    }
   ],
   "source": [
    "from data import extract_sentences\n",
    "from collections import defaultdict\n",
    "import numpy as np\n",
    "import seaborn as sns\n",
    "import matplotlib.pyplot as plt\n",
    "import tqdm\n",
    "import torch\n",
    "\n",
    "lang = \"de\"\n",
    "\n",
    "# Load the data\n",
    "sentences = extract_sentences(lang)"
   ]
  },
  {
   "cell_type": "markdown",
   "id": "marked-brick",
   "metadata": {},
   "source": [
    "# Encoder self-attention"
   ]
  },
  {
   "cell_type": "code",
   "execution_count": 2,
   "id": "alive-thesis",
   "metadata": {},
   "outputs": [
    {
     "name": "stderr",
     "output_type": "stream",
     "text": [
      "100%|████████████████████████████████████████████████████████████████████████████████████████████████████████████████████████████████████████████████████████████████████████████████████████████████████████████████████████████████████| 5990/5990 [00:13<00:00, 441.84it/s]\n"
     ]
    }
   ],
   "source": [
    "import random\n",
    "random.seed(111)\n",
    "\n",
    "# Extract the attention\n",
    "ambiguous_attention = defaultdict(list)\n",
    "unambiguous_attention = defaultdict(list)\n",
    "for sent in tqdm.tqdm(sentences):\n",
    "    ambiguous_idx = sent.index_select(1, tags=[\"NOUN\"])\n",
    "    unambiguous_idx = [x for x in sent.index_select(0, tags=[\"NOUN\"])]\n",
    "    if unambiguous_idx:\n",
    "        unambiguous_idx = random.sample(unambiguous_idx, 1)\n",
    "\n",
    "    if ambiguous_idx:\n",
    "        ambiguous_idx = random.sample(ambiguous_idx, 1)\n",
    "    context_idx = sent.index_select(0, tags=[\"NOUN\"], no_subtokens=True)\n",
    "\n",
    "    if ambiguous_idx and unambiguous_idx and context_idx:\n",
    "        amb_context_idx = [x for x in context_idx if x not in ambiguous_idx and \\\n",
    "                           ambiguous_idx[0] - 10 < x < ambiguous_idx[0] + 11]\n",
    "        unamb_context_idx = [x for x in context_idx if x not in unambiguous_idx and \\\n",
    "                             unambiguous_idx[0] - 11 < x < unambiguous_idx[0] + 11]\n",
    "\n",
    "        if amb_context_idx and unamb_context_idx:\n",
    "            attention = torch.index_select(sent.attention, index=torch.LongTensor(ambiguous_idx), dim=-2)\n",
    "            attention = torch.index_select(attention, index=torch.LongTensor(\n",
    "                amb_context_idx), dim=-1)\n",
    "            for l in range(6):\n",
    "                ambiguous_attention[l].append(torch.mean(attention[l, :]).item())\n",
    "\n",
    "            attention = torch.index_select(sent.attention, index=torch.LongTensor(unambiguous_idx), dim=-2)\n",
    "            attention = torch.index_select(attention, index=torch.LongTensor(unamb_context_idx), dim=-1)\n",
    "            for l in range(6):\n",
    "                unambiguous_attention[l].append(torch.mean(attention[l, :]).item())"
   ]
  },
  {
   "cell_type": "code",
   "execution_count": null,
   "id": "executed-stretch",
   "metadata": {},
   "outputs": [],
   "source": [
    "# Visualise the results\n",
    "sns.set_context(\"talk\")\n",
    "\n",
    "ambiguous = [x for l in range(6) for x in ambiguous_attention[l]]\n",
    "unambiguous = [x for l in range(6) for x in unambiguous_attention[l]]\n",
    "layers = [l for l in range(6) for x in unambiguous_attention[l]]\n",
    "hues = [\"amb.\" for _ in layers] + [\"other\" for _ in layers]\n",
    "\n",
    "colours = sns.color_palette(\"cubehelix\", 6)\n",
    "plt.figure(figsize=(4, 4))\n",
    "ax = sns.boxplot(x=layers + layers, y=ambiguous + unambiguous,\n",
    "                 hue=hues, palette=[colours[1], colours[-1]], fliersize=0)\n",
    "\n",
    "plt.tight_layout()\n",
    "ax.set_xlabel(\"layer\")\n",
    "ax.set_xticklabels([1, 2, 3, 4, 5, 6])\n",
    "ax.set_ylabel(\"attention\")\n",
    "plt.legend(bbox_to_anchor=(0.99, 1), frameon=False)\n",
    "plt.ylim(-0.001, 0.15)\n",
    "\n",
    "plt.savefig(f\"figures/wsd_attention_to_context_{lang}.pdf\", bbox_inches=\"tight\")\n",
    "plt.show()"
   ]
  },
  {
   "cell_type": "markdown",
   "id": "marked-egypt",
   "metadata": {},
   "source": [
    "# Encoder-decoder attention"
   ]
  },
  {
   "cell_type": "code",
   "execution_count": 4,
   "id": "shared-sandwich",
   "metadata": {},
   "outputs": [
    {
     "name": "stderr",
     "output_type": "stream",
     "text": [
      "100%|████████████████████████████████████████████████████████████████████████████████████████████████████████████████████████████████████████████████████████████████████████████████████████████████████████████████████████████████████| 5990/5990 [00:31<00:00, 191.29it/s]\n"
     ]
    }
   ],
   "source": [
    "import random\n",
    "\n",
    "# Extract the attention\n",
    "ambiguous_attention = defaultdict(list)\n",
    "unambiguous_attention = defaultdict(list)\n",
    "for sent in tqdm.tqdm(sentences):\n",
    "    if sum(sent.tokenised_annotation) > 1:\n",
    "        continue\n",
    "    eos_index = sent.translation.index(\"</s>\")\n",
    "    translation = sent.translation[:eos_index + 1]\n",
    "    \n",
    "    align_src2tgt = defaultdict(list)\n",
    "    for i in range(eos_index + 1):\n",
    "        index = torch.argmax(torch.mean(sent.cross_attention[-1, :, i, :-1], dim=0), dim=-1)\n",
    "        align_src2tgt[index.item()].append(i)\n",
    "\n",
    "    amb_src_indices = torch.LongTensor(sent.index_select(1, tags=[\"NOUN\"]))\n",
    "    unamb_src_indices = [x for x in sent.index_select(0, tags=[\"NOUN\"]) \\\n",
    "                         if x == len(sent.tokenised_annotation) - 1 or sent.not_subtoken(x + 1)]\n",
    "    if len(unamb_src_indices) > 0:\n",
    "        unamb_src_indices = random.sample(unamb_src_indices, 1)\n",
    "    unamb_src_indices = torch.LongTensor(unamb_src_indices)\n",
    "    amb_tgt_indices = [j for i in amb_src_indices for j in align_src2tgt[i.item()]]\n",
    "    amb_tgt_indices = torch.LongTensor(sorted(list(set(amb_tgt_indices))))\n",
    "    unamb_tgt_indices = [j for i in unamb_src_indices for j in align_src2tgt[i.item()]]\n",
    "    unamb_tgt_indices = torch.LongTensor(sorted(list(set(unamb_tgt_indices))))  \n",
    "    \n",
    "    if len(amb_tgt_indices) > 0 and len(unamb_tgt_indices) > 0:\n",
    "        attention = torch.index_select(sent.cross_attention, index=torch.LongTensor(amb_tgt_indices), dim=-2)\n",
    "        attention = torch.index_select(attention, index=torch.LongTensor(amb_src_indices), dim=-1)\n",
    "        for layer in range(6):\n",
    "            ambiguous_attention[layer].append(torch.mean(attention[layer, :]))\n",
    "\n",
    "        attention = torch.index_select(sent.cross_attention, index=torch.LongTensor(unamb_tgt_indices), dim=-2)\n",
    "        attention = torch.index_select(attention, index=torch.LongTensor(unamb_src_indices), dim=-1)\n",
    "\n",
    "        for layer in range(6):\n",
    "            unambiguous_attention[layer].append(torch.mean(attention[layer, :]))"
   ]
  },
  {
   "cell_type": "code",
   "execution_count": 5,
   "id": "industrial-registrar",
   "metadata": {},
   "outputs": [
    {
     "data": {
      "image/png": "[encoded data removed]",
      "text/plain": [
       "<Figure size 288x288 with 1 Axes>"
      ]
     },
     "metadata": {
      "needs_background": "light"
     },
     "output_type": "display_data"
    }
   ],
   "source": [
    "# Visualise the results\n",
    "plt.figure(figsize=(4, 4))\n",
    "sns.set_context(\"talk\")\n",
    "\n",
    "ambiguous = [x.item() for l in range(6) for x in ambiguous_attention[l]]\n",
    "unambiguous = [x.item() for l in range(6) for x in unambiguous_attention[l]]\n",
    "layers = [l for l in range(6) for x in unambiguous_attention[l]]\n",
    "hues = [\"ambiguous\" for _ in layers] + [\"other\" for _ in layers]\n",
    "\n",
    "colours = sns.color_palette(\"cubehelix\", 6)\n",
    "\n",
    "ax = sns.boxplot(x=layers + layers, y=ambiguous + unambiguous,\n",
    "                 hue=hues, palette=[colours[1], colours[-1]], fliersize=0)\n",
    "plt.tight_layout()\n",
    "\n",
    "ax.set_xlabel(\"layer\")\n",
    "plt.xticks([0, 1, 2, 3, 4, 5])\n",
    "ax.set_xticklabels([1, 2, 3, 4, 5, 6])\n",
    "ax.set_ylabel(\"attention\")\n",
    "plt.legend([],[], frameon=False)\n",
    "plt.ylim(-0.05, 1)\n",
    "plt.savefig(f\"figures/wsd_cross_attention_{lang}.pdf\", bbox_inches=\"tight\")\n",
    "plt.show()"
   ]
  },
  {
   "cell_type": "code",
   "execution_count": null,
   "id": "annual-parliament",
   "metadata": {},
   "outputs": [],
   "source": []
  }
 ],
 "metadata": {
  "kernelspec": {
   "display_name": "Python 3",
   "language": "python",
   "name": "python3"
  },
  "language_info": {
   "codemirror_mode": {
    "name": "ipython",
    "version": 3
   },
   "file_extension": ".py",
   "mimetype": "text/x-python",
   "name": "python",
   "nbconvert_exporter": "python",
   "pygments_lexer": "ipython3",
   "version": "3.7.1"
  }
 },
 "nbformat": 4,
 "nbformat_minor": 5
}
