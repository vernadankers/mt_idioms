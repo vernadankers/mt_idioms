{
 "cells": [
  {
   "cell_type": "code",
   "execution_count": null,
   "id": "premier-snake",
   "metadata": {},
   "outputs": [],
   "source": [
    "layers = [0, 1, 2, 3, 4, 5, 6]\n",
    "changed = [0.059, 0.075, 0.12, 0.12, 0.1074, 0.05, 0.06]\n",
    "characters_changed = [20.5, 22.6, 21.7, 25.4, 21.67, 27.9, 29.0]\n",
    "bleu = [84.5, 80.13, 80.42, 82.7, 83.4, 77.9, 78.6]"
   ]
  },
  {
   "cell_type": "code",
   "execution_count": null,
   "id": "designing-smell",
   "metadata": {},
   "outputs": [],
   "source": [
    "import seaborn as sns\n",
    "import matplotlib.pyplot as plt\n",
    "\n",
    "sns.set_context(\"talk\")\n",
    "sns.barplot(layers, [x * 100 for x in changed], color=\"red\")\n",
    "plt.xlabel(\"layer\")\n",
    "plt.ylabel(\"% changed to word for word\")"
   ]
  },
  {
   "cell_type": "code",
   "execution_count": null,
   "id": "smaller-haven",
   "metadata": {},
   "outputs": [],
   "source": [
    "import seaborn as sns\n",
    "import matplotlib.pyplot as plt\n",
    "\n",
    "sns.set_context(\"talk\")\n",
    "sns.barplot(layers, characters_changed, color=\"red\")\n",
    "plt.xlabel(\"layer\")\n",
    "plt.ylabel(\"edit distance changed translations\")"
   ]
  },
  {
   "cell_type": "code",
   "execution_count": null,
   "id": "ethical-torture",
   "metadata": {},
   "outputs": [],
   "source": [
    "import seaborn as sns\n",
    "import matplotlib.pyplot as plt\n",
    "\n",
    "sns.set_context(\"talk\")\n",
    "sns.barplot(layers, bleu, color=\"red\")\n",
    "plt.xlabel(\"layer\")\n",
    "plt.ylabel(\"BLEU changed translations\")"
   ]
  },
  {
   "cell_type": "code",
   "execution_count": null,
   "id": "disciplinary-personality",
   "metadata": {},
   "outputs": [],
   "source": [
    "import seaborn as sns\n",
    "import matplotlib.pyplot as plt\n",
    "\n",
    "\n",
    "one = {\"a hair's breadth\": 0.5, 'above board': 0.11764705882352941, 'across the board': 0.04, 'act of god': 0.0, 'add insult to injury': 0.0, 'against the grain': 0.0, 'ahead of the game': 0.5, 'all things being equal': 0.0, \"anyone's guess\": 0.0, 'argue the toss': 0.0, 'around the clock': 0.0, 'as a rule': 0.0, 'as luck would have it': 0.0, 'at a loose end': 0.0, 'at a pinch': 0.09090909090909091, 'at a stretch': 0.16666666666666666, 'at cross purposes': 0.3333333333333333, 'at daggers drawn': 0.0, 'at loggerheads': 0.0, 'at the end of the day': 0.0, 'at your fingertips': 0.23076923076923078, 'basket case': 0.0, 'be my guest': 0.0, 'bear in mind': 0.04, 'beat about the bush': 0.0, 'beg the question': 0.0}\n",
    "two = {\"a hair's breadth\": 0.0, 'above board': 0.17647058823529413, 'across the board': 0.0, 'act of god': 0.0, 'add insult to injury': 0.0, 'against the grain': 0.0, 'ahead of the game': 0.0, 'all things being equal': 0.16666666666666666, \"anyone's guess\": 0.0, 'argue the toss': 0.0, 'around the clock': 0.0, 'as a rule': 0.0, 'as luck would have it': 0.0, 'at a loose end': 0.0, 'at a pinch': 0.0, 'at a stretch': 0.25, 'at cross purposes': 0.0, 'at daggers drawn': 0.0, 'at loggerheads': 0.0, 'at the end of the day': 0.0, 'at your fingertips': 0.07692307692307693, 'basket case': 0.0, 'be my guest': 0.25, 'bear in mind': 0.0, 'beat about the bush': 0.0, 'beg the question': 0.0}\n",
    "three = {\"a hair's breadth\": 0.0, 'above board': 0.11764705882352941, 'across the board': 0.08, 'act of god': 0.0, 'add insult to injury': 0.0, 'against the grain': 0.5, 'ahead of the game': 0.0, 'all things being equal': 0.3333333333333333, \"anyone's guess\": 0.0, 'argue the toss': 0.0, 'around the clock': 0.0, 'as a rule': 0.4, 'as luck would have it': 0.6666666666666666, 'at a loose end': 0.0, 'at a pinch': 0.09090909090909091, 'at a stretch': 0.16666666666666666, 'at cross purposes': 0.5, 'at daggers drawn': 1.0, 'at loggerheads': 0.0, 'at the end of the day': 0.0, 'at your fingertips': 0.07692307692307693, 'basket case': 0.0, 'be my guest': 0.25, 'bear in mind': 0.0, 'beat about the bush': 0.0, 'beg the question': 0.0}\n",
    "four = {\"a hair's breadth\": 0.0, 'above board': 0.17647058823529413, 'across the board': 0.0, 'act of god': 0.0, 'add insult to injury': 0.0, 'against the grain': 0.0, 'ahead of the game': 0.0, 'all things being equal': 0.0, \"anyone's guess\": 0.0, 'argue the toss': 0.0, 'around the clock': 0.0, 'as a rule': 1.0, 'as luck would have it': 0.6666666666666666, 'at a loose end': 0.0, 'at a pinch': 0.0, 'at a stretch': 0.25, 'at cross purposes': 0.3333333333333333, 'at daggers drawn': 0.0, 'at loggerheads': 0.125, 'at the end of the day': 1.0, 'at your fingertips': 0.23076923076923078, 'basket case': 0.0, 'be my guest': 0.25, 'bear in mind': 0.0, 'beat about the bush': 0.0, 'beg the question': 0.0}\n",
    "five = {\"a hair's breadth\": 0.0, 'above board': 0.058823529411764705, 'across the board': 0.0, 'act of god': 0.0, 'add insult to injury': 0.0, 'against the grain': 0.16666666666666666, 'ahead of the game': 0.5, 'all things being equal': 0.16666666666666666, \"anyone's guess\": 0.0, 'argue the toss': 0.0, 'around the clock': 0.0, 'as a rule': 0.4, 'as luck would have it': 0.6666666666666666, 'at a loose end': 0.0, 'at a pinch': 0.2727272727272727, 'at a stretch': 0.16666666666666666, 'at cross purposes': 0.0, 'at daggers drawn': 0.0, 'at loggerheads': 0.125, 'at the end of the day': 0.0, 'at your fingertips': 0.15384615384615385, 'basket case': 0.0, 'be my guest': 0.25, 'bear in mind': 0.04, 'beat about the bush': 0.25, 'beg the question': 0.0}\n",
    "six = {\"a hair's breadth\": 0.0, 'above board': 0.11764705882352941, 'across the board': 0.0, 'act of god': 0.0, 'add insult to injury': 0.25, 'against the grain': 0.3333333333333333, 'ahead of the game': 0.5, 'all things being equal': 0.16666666666666666, \"anyone's guess\": 0.0, 'argue the toss': 0.0, 'around the clock': 0.0, 'as a rule': 0.0, 'as luck would have it': 1.0, 'at a loose end': 0.0, 'at a pinch': 0.36363636363636365, 'at a stretch': 0.16666666666666666, 'at cross purposes': 0.3333333333333333, 'at daggers drawn': 0.0, 'at loggerheads': 0.0, 'at the end of the day': 0.0, 'at your fingertips': 0.15384615384615385, 'basket case': 0.0, 'be my guest': 0.0, 'bear in mind': 0.0, 'beat about the bush': 0.0, 'beg the question': 0.0}\n",
    "\n",
    "data = [one, two, three, four, five, six]\n",
    "\n",
    "nums, wbw, hue = [], [], []\n",
    "for i, idi in enumerate(one.keys()):\n",
    "    for j, layer_data in enumerate(data):\n",
    "        wbw.append(layer_data[idi])\n",
    "        nums.append(i)\n",
    "        hue.append(j)\n",
    "    \n",
    "plt.figure(figsize=(20, 5))\n",
    "sns.barplot(nums, wbw, hue=hue, palette=\"Blues\")\n"
   ]
  },
  {
   "cell_type": "code",
   "execution_count": null,
   "id": "defensive-baghdad",
   "metadata": {},
   "outputs": [],
   "source": [
    "attention_one_wbw = [0.08, 0.05, 0.13, 0.12, 0.11, 0.117]\n",
    "attention_one_ed = [10.6, 10.3, 5.4, 4.7, 5.5, 10.8]\n",
    "attention_one_bleu = [71.9, 74.3, 78.7, 80.5, 79.2, 80]\n",
    "\n",
    "attention_two_wbw = [0.12, 0.13, 0.176, 0.159, 0.15]\n",
    "attention_two_ed = [8.6, 5.3, 4.88, 4.92, 5.56]\n",
    "attention_two_bleu = [76.5, 80.4, 90.57, 81.08, 79.83]\n",
    "\n",
    "attention_three_wbw = [0.2294, 0.21176, 0.2235, 0.2117]\n",
    "attention_three_ed = [5.35, 5.244, 5.2, 5.927]\n",
    "attention_three_bleu = [81.01, 80.09, 78.98, 76.16]\n",
    "\n",
    "attention_four_wbw = [0.27, 0.241, 0.294]\n",
    "attention_four_ed = [5.6, 5.17, 5.59]\n",
    "attention_four_bleu = [79.06, 80.1, 78.03]\n",
    "\n",
    "attention_five_wbw = [0.329, 0.305]\n",
    "attention_five_ed = [6.1, 5.9]\n",
    "attention_five_bleu = [76.83, 77.27]\n",
    "\n",
    "attention_six_wbw = [0.329]\n",
    "attention_six_ed = [5.69]\n",
    "attention_six_bleu = [77.43]\n",
    "sns.set_context(\"talk\")\n",
    "plt.figure(figsize=(15, 4))\n",
    "\n",
    "wbw = attention_one_wbw + attention_two_wbw + attention_three_wbw + attention_four_wbw + attention_five_wbw + attention_six_wbw\n",
    "sns.barplot([\"1\", \"2\", \"3\", \"4\", \"5\", \"6\", \"1+2\", \"2+3\", \"3+4\", \"4+5\", \"5+6\"] + \\\n",
    "            [\"1-3\", \"2-4\", \"3-5\", \"4-6\", \"1-4\", \"2-5\", \"3-6\", \"1-5\", \"2-6\", \"1-6\"],\n",
    "            [x * 100 for x in wbw],\n",
    "            palette=\"Blues\")\n",
    "plt.xlabel(\"layers affected\")\n",
    "plt.ylabel(\"% paraphrases -> wfw\")\n",
    "plt.title(\"INP on attention query states\")"
   ]
  },
  {
   "cell_type": "code",
   "execution_count": null,
   "id": "dominant-pharmaceutical",
   "metadata": {},
   "outputs": [],
   "source": [
    "plt.figure(figsize=(15, 4))\n",
    "wbw = attention_one_ed + attention_two_ed + attention_three_ed + attention_four_ed + attention_five_ed + attention_six_ed\n",
    "sns.barplot([\"1\", \"2\", \"3\", \"4\", \"5\", \"6\", \"1+2\", \"2+3\", \"3+4\", \"4+5\", \"5+6\"] + \\\n",
    "            [\"1-3\", \"2-4\", \"3-5\", \"4-6\", \"1-4\", \"2-5\", \"3-6\", \"1-5\", \"2-6\", \"1-6\"],\n",
    "            [x for x in wbw],\n",
    "            palette=\"Blues\")\n",
    "plt.xlabel(\"layers affected\")\n",
    "plt.ylabel(\"word-level edit distance\")\n",
    "plt.title(\"INP on attention query states\")"
   ]
  },
  {
   "cell_type": "code",
   "execution_count": null,
   "id": "advised-asian",
   "metadata": {},
   "outputs": [],
   "source": [
    "plt.figure(figsize=(15, 4))\n",
    "wbw = attention_one_bleu + attention_two_bleu + attention_three_bleu + \\\n",
    "      attention_four_bleu + attention_five_bleu + attention_six_bleu\n",
    "sns.barplot([\"1\", \"2\", \"3\", \"4\", \"5\", \"6\", \"1+2\", \"2+3\", \"3+4\", \"4+5\", \"5+6\"] + \\\n",
    "            [\"1-3\", \"2-4\", \"3-5\", \"4-6\", \"1-4\", \"2-5\", \"3-6\", \"1-5\", \"2-6\", \"1-6\"],\n",
    "            [x for x in wbw],\n",
    "            palette=\"Blues\")\n",
    "plt.xlabel(\"layers affected\")\n",
    "plt.ylabel(\"BlEU changed vs. original\")\n",
    "plt.title(\"INP on attention query states\")"
   ]
  },
  {
   "cell_type": "code",
   "execution_count": null,
   "id": "intense-radio",
   "metadata": {},
   "outputs": [],
   "source": [
    "hidden_one_wbw = [0.21, 0.08, 0.1059, 0.094, 0.111, 0.15, 0.0529]\n",
    "hidden_one_ed = [6.14, 8.1, 5.67, 5.86, 7.3, 6.5, 7.48]\n",
    "hidden_one_bleu = [78.46, 74.2, 80.56, 77.73, 78.75, 75.58, 73.81]\n",
    "\n",
    "hidden_two_wbw = [0.2529, 0.141, 0.1588, 0.1568, 0.1862]\n",
    "hidden_two_ed = [5.86, 8.11, 5.59, 6.2, 7.3]\n",
    "hidden_two_bleu = [78.2, 75.27, 80.22, 79.43, 78.05]\n",
    "\n",
    "hidden_three_wbw = [0.2588, 0.141, 0.182, 0.183, 0.062]\n",
    "hidden_three_ed = [6.18, 8.0, 7.9, 6.1, 7.449]\n",
    "hidden_three_bleu = [78.11, 73.86, 75.9, 79.25, 76.1]\n",
    "\n",
    "hidden_four_wbw  = [0.205, 0.223, 0.264, 0.0915]\n",
    "hidden_four_ed = [7.512, 8.44, 7.9, 8.44]\n",
    "hidden_four_bleu = [76.4, 72.5, 74.9, 76.2]\n",
    "\n",
    "hidden_five_wbw = [0.3, 0.247, 0.135]\n",
    "hidden_five_ed = [6.4, 8.4, 8.1]\n",
    "hidden_five_bleu = [76.59, 73.05, 71.75]\n",
    "\n",
    "hidden_six_wbw = [0.317, 0.111]\n",
    "hidden_six_ed = [6.6, 7.9]\n",
    "hidden_six_bleu = [75.2, 72.1]\n",
    "\n",
    "hidden_seven_wbw = [0.16]\n",
    "hidden_seven_ed = [6.88]\n",
    "hidden_seven_bleu = [77.12]"
   ]
  },
  {
   "cell_type": "code",
   "execution_count": null,
   "id": "decimal-supplement",
   "metadata": {},
   "outputs": [],
   "source": [
    "plt.figure(figsize=(22, 4))\n",
    "wbw = hidden_one_wbw + hidden_two_wbw + hidden_three_wbw + hidden_four_wbw + hidden_five_wbw + hidden_six_wbw + hidden_seven_wbw\n",
    "sns.barplot([\"emb\", \"1\", \"2\", \"3\", \"4\", \"5\", \"6\", \"emb+1\", \"1+2\", \"2+3\", \"3+4\", \"4+5\"] + \\\n",
    "            [\"emb-2\", \"1-3\", \"2-4\", \"3-5\", \"4-6\", \"emb-3\", \"1-4\", \"2-5\", \"3-6\", \"emb-4\", \"1-5\", \"2-6\", \"emb-5\", \"1-6\", \"emb-6\"],\n",
    "            [x * 100 for x in wbw],\n",
    "            palette=\"Blues\")\n",
    "plt.xlabel(\"layers affected\")\n",
    "plt.ylabel(\"% paraphrases -> wfw\")\n",
    "plt.title(\"INP on hidden states\")"
   ]
  },
  {
   "cell_type": "code",
   "execution_count": null,
   "id": "minute-daily",
   "metadata": {},
   "outputs": [],
   "source": [
    "plt.figure(figsize=(22, 4))\n",
    "wbw = hidden_one_ed + hidden_two_ed + hidden_three_ed + hidden_four_ed + hidden_five_ed + hidden_six_ed + hidden_seven_ed\n",
    "sns.barplot([\"emb\", \"1\", \"2\", \"3\", \"4\", \"5\", \"6\", \"emb+1\", \"1+2\", \"2+3\", \"3+4\", \"4+5\"] + \\\n",
    "            [\"emb-2\", \"1-3\", \"2-4\", \"3-5\", \"4-6\", \"emb-3\", \"1-4\", \"2-5\", \"3-6\", \"emb-4\", \"1-5\", \"2-6\", \"emb-5\", \"1-6\", \"emb-6\"],\n",
    "            [x for x in wbw],\n",
    "            palette=\"Blues\")\n",
    "plt.xlabel(\"layers affected\")\n",
    "plt.ylabel(\"word-level edit distance\")\n",
    "plt.title(\"INP on hidden states\")"
   ]
  },
  {
   "cell_type": "code",
   "execution_count": null,
   "id": "champion-label",
   "metadata": {},
   "outputs": [],
   "source": [
    "plt.figure(figsize=(22, 4))\n",
    "wbw = hidden_one_bleu + hidden_two_bleu + hidden_three_bleu + hidden_four_bleu + hidden_five_bleu + hidden_six_bleu + hidden_seven_bleu\n",
    "sns.barplot([\"emb\", \"1\", \"2\", \"3\", \"4\", \"5\", \"6\", \"emb+1\", \"1+2\", \"2+3\", \"3+4\", \"4+5\"] + \\\n",
    "            [\"emb-2\", \"1-3\", \"2-4\", \"3-5\", \"4-6\", \"emb-3\", \"1-4\", \"2-5\", \"3-6\", \"emb-4\", \"1-5\", \"2-6\", \"emb-5\", \"1-6\", \"emb-6\"],\n",
    "            [x for x in wbw],\n",
    "            palette=\"Blues\")\n",
    "plt.xlabel(\"layers affected\")\n",
    "plt.ylabel(\"BlEU changed vs. original\")\n",
    "plt.title(\"INP on hidden states\")"
   ]
  },
  {
   "cell_type": "code",
   "execution_count": null,
   "id": "breathing-construction",
   "metadata": {},
   "outputs": [],
   "source": []
  },
  {
   "cell_type": "code",
   "execution_count": null,
   "id": "confidential-audit",
   "metadata": {},
   "outputs": [],
   "source": [
    "plt.figure(figsize=(10, 4))\n",
    "wbw = [0.239, 0.207, 0.4336, 0.1593]\n",
    "ed = [5.82, 4.91, 10.22, 21.04]\n",
    "bleu = [77.42, 80.76, 57.9, 32.94]\n",
    "sns.barplot([\"hidden, PIE\", \"attention, PIE\", \"hid-att, all\", \"hid-att, baseline, all\"], [x * 100 for x in wbw],\n",
    "            palette=\"Blues\")\n",
    "plt.xlabel(\"layers affected\")\n",
    "plt.ylabel(\"% paraphrases -> wfw\")"
   ]
  },
  {
   "cell_type": "code",
   "execution_count": null,
   "id": "animal-hampton",
   "metadata": {},
   "outputs": [],
   "source": [
    "plt.figure(figsize=(10, 4))\n",
    "sns.barplot([\"hidden, PIE\", \"attention, PIE\", \"hid-att, all\", \"hid-att, baseline, all\"], ed,\n",
    "            palette=\"Blues\")\n",
    "plt.xlabel(\"layers affected\")\n",
    "plt.ylabel(\"word-level edit distance\")"
   ]
  },
  {
   "cell_type": "code",
   "execution_count": null,
   "id": "straight-diabetes",
   "metadata": {},
   "outputs": [],
   "source": [
    "plt.figure(figsize=(10, 4))\n",
    "sns.barplot([\"hidden, PIE\", \"attention, PIE\", \"hid-att, all\", \"hid-att, baseline, all\"], bleu,\n",
    "            palette=\"Blues\")\n",
    "plt.xlabel(\"layers affected\")\n",
    "plt.ylabel(\"BlEU changed vs. original\")"
   ]
  },
  {
   "cell_type": "code",
   "execution_count": null,
   "id": "american-engineering",
   "metadata": {},
   "outputs": [],
   "source": []
  },
  {
   "cell_type": "code",
   "execution_count": 134,
   "id": "shaped-charlotte",
   "metadata": {},
   "outputs": [],
   "source": [
    "import pickle\n",
    "import torch\n",
    "import numpy as np\n",
    "import seaborn as sns\n",
    "import matplotlib.pyplot as plt\n",
    "sns.set_context(\"talk\")\n",
    "\n",
    "attention = pickle.load(open(\"attention_weights/hidden.pickle\", 'rb'))"
   ]
  },
  {
   "cell_type": "code",
   "execution_count": 135,
   "id": "rental-schema",
   "metadata": {},
   "outputs": [],
   "source": [
    "x, y, hue = [], [], []\n",
    "for setup in [(\"paraphrase\", \"word-by-word\"), (\"paraphrase\", \"paraphrase\")]:\n",
    "    difference = []\n",
    "    for before, after, noun_pie_indices, context_pie_indices, all_pie_indices, all_context_indices, _,_ in attention[setup]:\n",
    "        before = torch.FloatTensor(before)\n",
    "        after = torch.FloatTensor(after)\n",
    "            \n",
    "        all_pie_indices = [x for x in all_pie_indices if x not in noun_pie_indices]\n",
    "        before = torch.index_select(before, dim=-2, index=torch.LongTensor(all_pie_indices))\n",
    "        before = torch.mean(torch.index_select(before, dim=-1, index=torch.LongTensor(noun_pie_indices)))\n",
    "\n",
    "        after = torch.index_select(after, dim=-2, index=torch.LongTensor(all_pie_indices))\n",
    "        after = torch.mean(torch.index_select(after, dim=-1, index=torch.LongTensor(noun_pie_indices)))\n",
    "        difference.append((after.item() - before.item()) / before.item() * 100)\n",
    "\n",
    "    x.extend([0 for _ in difference])\n",
    "    y.extend(difference)\n",
    "    hue.extend([\"pie-pie\" for _ in difference])\n",
    "\n",
    "    difference = []\n",
    "    for before, after, noun_pie_indices, noun_context_indices, all_pie_indices, all_context_indices, _,_ in attention[setup]:\n",
    "        before = torch.FloatTensor(before)\n",
    "        after = torch.FloatTensor(after)\n",
    "            \n",
    "        all_pie_indices = [x for x in all_pie_indices if x not in noun_pie_indices]\n",
    "        before = torch.index_select(before, dim=-2, index=torch.LongTensor(all_pie_indices))\n",
    "        before = torch.mean(torch.index_select(before, dim=-1, index=torch.LongTensor(noun_context_indices)))\n",
    "\n",
    "        after = torch.index_select(after, dim=-2, index=torch.LongTensor(all_pie_indices))\n",
    "        after = torch.mean(torch.index_select(after, dim=-1, index=torch.LongTensor(noun_context_indices)))\n",
    "        difference.append((after.item() - before.item())/before.item() * 100)\n",
    "\n",
    "    x.extend([0 for _ in difference])\n",
    "    y.extend(difference)\n",
    "    hue.extend([\"pie-context\" for _ in difference])\n",
    "\n",
    "    difference = []\n",
    "    for before, after, noun_pie_indices, noun_context_indices, all_pie_indices, all_context_indices, _,_ in attention[setup]:\n",
    "        before = torch.FloatTensor(before)\n",
    "        after = torch.FloatTensor(after)\n",
    "            \n",
    "        all_pie_indices = [x for x in all_pie_indices if x not in noun_pie_indices]\n",
    "        before = torch.index_select(before, dim=-2, index=torch.LongTensor(all_context_indices))\n",
    "        before = torch.mean(torch.index_select(before, dim=-1, index=torch.LongTensor(noun_pie_indices)))\n",
    "\n",
    "        after = torch.index_select(after, dim=-2, index=torch.LongTensor(all_context_indices))\n",
    "        after = torch.mean(torch.index_select(after, dim=-1, index=torch.LongTensor(noun_pie_indices)))\n",
    "        difference.append((after.item() - before.item()) / before.item() * 100)\n",
    "\n",
    "    x.extend([0 for _ in difference])\n",
    "    y.extend(difference)\n",
    "    hue.extend([\"context-pie\" for _ in difference])"
   ]
  },
  {
   "cell_type": "code",
   "execution_count": 137,
   "id": "psychological-charm",
   "metadata": {},
   "outputs": [
    {
     "name": "stderr",
     "output_type": "stream",
     "text": [
      "c:\\users\\gebruiker\\appdata\\local\\programs\\python\\python37\\lib\\site-packages\\seaborn\\_decorators.py:43: FutureWarning: Pass the following variables as keyword args: x, y. From version 0.12, the only valid positional argument will be `data`, and passing other arguments without an explicit keyword will result in an error or misinterpretation.\n",
      "  FutureWarning\n",
      "c:\\users\\gebruiker\\appdata\\local\\programs\\python\\python37\\lib\\site-packages\\seaborn\\_decorators.py:43: FutureWarning: Pass the following variables as keyword args: x, y. From version 0.12, the only valid positional argument will be `data`, and passing other arguments without an explicit keyword will result in an error or misinterpretation.\n",
      "  FutureWarning\n"
     ]
    },
    {
     "data": {
      "image/png": "[encoded data removed]",
      "text/plain": [
       "<Figure size 144x216 with 1 Axes>"
      ]
     },
     "metadata": {
      "needs_background": "light"
     },
     "output_type": "display_data"
    }
   ],
   "source": [
    "plt.figure(figsize=(2, 3))\n",
    "ax = sns.boxplot(x, y, hue=hue, palette=\"mako\", fliersize=0)\n",
    "plt.ylabel(\"change (%)\")\n",
    "plt.ylim(-40, 45)\n",
    "plt.xlim(-0.5, 0.5)\n",
    "ax = sns.lineplot([-1, 1], [0, 0], color=\"black\", linestyle=\"--\", zorder=-1)\n",
    "plt.legend([], [], frameon=False) #bbox_to_anchor=(1, 1.05), frameon=False)\n",
    "ax.set_xticks([])\n",
    "plt.savefig(\"inlp_attention_hidden.pdf\", bbox_inches=\"tight\")\n",
    "#plt.ylabel(\"\")"
   ]
  },
  {
   "cell_type": "code",
   "execution_count": 12,
   "id": "interstate-classic",
   "metadata": {},
   "outputs": [],
   "source": [
    "def generate(model,\n",
    "             tokenizer,\n",
    "             sentence,\n",
    "             attention_projection_indices=None,\n",
    "             attention_projection_matrices=[None]*7,\n",
    "             hidden_projection_indices=None,\n",
    "             hidden_projection_matrices=[None]*7):\n",
    "\n",
    "    # Preprocess the input by Transformer's MarianMT tokeniser\n",
    "    batch = tokenizer.prepare_seq2seq_batch(src_texts=[sentence], return_tensors=\"pt\")\n",
    "\n",
    "    # Generate a regular translation\n",
    "    decoder_outputs = model.generate(\n",
    "        **batch, beam_size=5, return_dict_in_generate=True,\n",
    "        attention_projection_indices=attention_projection_indices,\n",
    "        attention_projection_matrix=attention_projection_matrices,\n",
    "        hidden_projection_matrix=hidden_projection_matrices,\n",
    "        hidden_projection_indices=hidden_projection_indices)\n",
    "\n",
    "    tgt_tokens = tokenizer.convert_ids_to_tokens(decoder_outputs[\"sequences\"][0])\n",
    "    tgt = \"\".join(tgt_tokens[1:-1]).replace(\"▁\", \" \").strip()\n",
    "    return tgt\n",
    "\n",
    "\n",
    "def tokenise(sentence, annotation):\n",
    "    tok_sent, tok_annotations = [], []\n",
    "    for w, l in zip(sentence.split(), annotation):\n",
    "        tokenised_w = tokenizer.tokenize(w)\n",
    "        tok_sent.extend(tokenised_w)\n",
    "        tok_annotations.extend([l] * len(tokenised_w))\n",
    "    return tok_annotations"
   ]
  },
  {
   "cell_type": "code",
   "execution_count": 55,
   "id": "after-trainer",
   "metadata": {},
   "outputs": [
    {
     "name": "stdout",
     "output_type": "stream",
     "text": [
      "Mevrouw Thatcher ziet niets in de interne markt die in de afgelopen tien jaar tegen de kern van haar beleid ingaat, aangezien zij de vrije ondernemingscultuur binnen de EG zou moeten bevorderen.\n",
      "Mevrouw Thatcher ziet niets in de interne markt die in de afgelopen tien jaar tegen de graankorrel van haar beleid ingaat, aangezien zij de vrije ondernemingscultuur binnen de EG zou moeten bevorderen.\n"
     ]
    }
   ],
   "source": [
    "from transformers import AutoModelForSeq2SeqLM, AutoTokenizer\n",
    "import pickle\n",
    "\n",
    "# Load the MarianMT model\n",
    "model_version = 'Helsinki-NLP/opus-mt-en-nl'\n",
    "model = AutoModelForSeq2SeqLM.from_pretrained(model_version)\n",
    "tokenizer = AutoTokenizer.from_pretrained(model_version)\n",
    "model.eval()\n",
    "\n",
    "# Remember that when trying any sentence with any idiom, the model\n",
    "# is most likely to emit a word for word translation, so it is very hard\n",
    "# to find a paraphrase by simply trying.\n",
    "# Here are 10 examples of idioms the model can paraphrase, although\n",
    "# it doesn't happen in every context containing the idiom.\n",
    "\n",
    "data = [\n",
    "    (\"Most seven year olds sleep for about ten hours at a stretch.\",\n",
    "     [0, 0, 0, 0, 0, 0, 0, 0, 0, 1, 0, 1]),\n",
    "    (\"And so it is right across the board.\",\n",
    "     [0, 0, 0, 0, 0, 1, 0, 1]),\n",
    "    (\"Restored in 1960 for the Temora Aero Club she eventually fell into disuse and was sold to Ray Windred of Dungong, New South Wales, as a basket case.\",\n",
    "     [0, 0, 0, 0, 0, 0, 0, 0, 0, 0, 0, 0, 0, 0, 0, 0, 0, 0, 0, 0, 0, 0, 0, 0, 0, 0, 1, 1]),\n",
    "    (\"I won't beat about the bush.\",\n",
    "     [0, 0, 0, 1, 0, 1]),\n",
    "    (\"Such a clause would not bring the dispute between holists and individualists any nearer to a solution, however, since it begs the very question at issue.\",\n",
    "     [0, 0, 0, 0, 0, 0, 0, 0, 0, 0, 0, 0, 0, 0, 0, 0, 0, 0, 0, 0, 1, 1, 0, 1, 0, 0]),\n",
    "    (\"Bearing those points in mind one seven eight offers a better way forward to use the skills and experience of our lay officials and members.\",\n",
    "     [1, 0, 0, 1, 1, 0, 0, 0, 0, 0, 0, 0,0, 0, 0, 0, 0, 0, 0, 0, 0, 0, 0, 0, 0]),\n",
    "    (\"As a general rule, it's simple to criticize, but difficult to produce alternative suggestions.\",\n",
    "     [1, 1, 0, 1, 0, 0, 0, 0, 0, 0, 0, 0, 0, 0]),\n",
    "    (\"You should have at your fingertips some basic methods of handling conflict in meetings since it is almost inevitable and occasionally healthy.\",\n",
    "     [0, 0, 0, 1, 1, 1, 0, 0, 0, 0, 0, 0, 0, 0, 0, 0, 0, 0, 0, 0, 0, 0]),\n",
    "    (\"Mrs Thatcher sees nothing in the single market which cuts against the grain of her policies over the past decade, since it should promote the free enterprise culture within the EC.\",\n",
    "     [0, 0, 0, 0, 0, 0, 0, 0, 0, 0, 1, 0, 1, 0, 0, 0, 0, 0, 0, 0, 0, 0, 0, 0, 0, 0, 0, 0, 0, 0, 0])\n",
    "]\n",
    "\n",
    "\n",
    "hidden_projection_matrices = []\n",
    "attention_projection_matrices = []\n",
    "for layer in range(7):\n",
    "    P = pickle.load(open(f\"projection_matrices/hidden_fold=0_layer={layer}_baseline=False_classifiers=50.pickle\", 'rb'))\n",
    "    hidden_projection_matrices.append(P)\n",
    "    if layer != 0:\n",
    "        P = pickle.load(open(f\"projection_matrices/attention_fold=0_layer={layer}_baseline=False_classifiers=50.pickle\", 'rb'))\n",
    "        attention_projection_matrices.append(P)\n",
    "    else:\n",
    "        # There is no layer 0 for the attention, layer 0 are the embeddings\n",
    "        attention_projection_matrices.append(P)\n",
    "\n",
    "pie_indices = [i for i, l in enumerate(tokenise(sentence, annotation)) if l == 1]\n",
    "\n",
    "translation_before = generate(model, tokenizer, sentence)\n",
    "print(translation_before)\n",
    "translation_after = generate(\n",
    "    model, tokenizer, sentence,\n",
    "    attention_projection_indices=pie_indices,\n",
    "    attention_projection_matrices=attention_projection_matrices,\n",
    "    hidden_projection_indices=pie_indices,\n",
    "    hidden_projection_matrices=hidden_projection_matrices)\n",
    "print(translation_after)"
   ]
  },
  {
   "cell_type": "code",
   "execution_count": 9,
   "id": "strategic-declaration",
   "metadata": {},
   "outputs": [
    {
     "data": {
      "text/plain": [
       "(['▁I',\n",
       "  '▁suppose',\n",
       "  '▁you',\n",
       "  \"▁'\",\n",
       "  're',\n",
       "  '▁ahead',\n",
       "  '▁of',\n",
       "  '▁the',\n",
       "  '▁game',\n",
       "  '▁if',\n",
       "  '▁you',\n",
       "  \"▁'\",\n",
       "  're',\n",
       "  '▁alive',\n",
       "  '.'],\n",
       " [0, 0, 0, 0, 0, 1, 1, 0, 1, 0, 0, 0, 0, 0, 0])"
      ]
     },
     "execution_count": 9,
     "metadata": {},
     "output_type": "execute_result"
    }
   ],
   "source": [
    "tokenise(sentence, annotation)"
   ]
  },
  {
   "cell_type": "code",
   "execution_count": 6,
   "id": "identical-salmon",
   "metadata": {},
   "outputs": [
    {
     "data": {
      "text/plain": [
       "[]"
      ]
     },
     "execution_count": 6,
     "metadata": {},
     "output_type": "execute_result"
    }
   ],
   "source": [
    "pie_indices"
   ]
  },
  {
   "cell_type": "code",
   "execution_count": 71,
   "id": "earned-limitation",
   "metadata": {},
   "outputs": [
    {
     "data": {
      "image/png": "[encoded data removed]",
      "text/plain": [
       "<Figure size 432x648 with 12 Axes>"
      ]
     },
     "metadata": {
      "needs_background": "light"
     },
     "output_type": "display_data"
    }
   ],
   "source": [
    "import seaborn as sns\n",
    "import matplotlib.pyplot as plt\n",
    "sns.set_context(\"talk\")\n",
    "\n",
    "\n",
    "attention_single = [0.02170, 0.0238770, 0.0395, 0.0959, 0.0271, 0.048]\n",
    "attention_double = [0.045, 0.0421, 0.0780, 0.08260, 0.0531]\n",
    "attention_triple = [0.051, 0.087, 0.0593, 0.0719]\n",
    "attention_quadrupel = [0.1007, 0.0863715, 0.075]\n",
    "attention_quintuple = [0.097, 0.107]\n",
    "attention_sixtuple = [0.109]\n",
    "\n",
    "4\n",
    "2 3 4\n",
    "1 2 3 4\n",
    "2 3 4 5 6\n",
    "1 2 3 4 5 6\n",
    "\n",
    "fig, (ax1, ax2, ax3, ax4, ax5, ax6) = plt.subplots(6, 1, figsize=(6, 9))\n",
    "\n",
    "ax = sns.heatmap([attention_single], vmin=0, vmax=0.2, cmap=\"Blues\", ax=ax1)\n",
    "ax.set_yticklabels([\"one\"], rotation=True)\n",
    "ax.set_xticklabels([1, 2, 3, 4, 5, 6])\n",
    "\n",
    "ax = sns.heatmap([attention_double], vmin=0, vmax=0.2, cmap=\"Blues\", ax=ax2)\n",
    "ax.set_yticklabels([\"two\"], rotation=True)\n",
    "ax.set_xticklabels([\"1-2\", \"2-3\", \"3-4\", \"4-5\", \"5-6\"])\n",
    "\n",
    "ax = sns.heatmap([attention_triple], vmin=0, vmax=0.2, cmap=\"Blues\", ax=ax3)\n",
    "ax.set_yticklabels([\"three\"], rotation=True)\n",
    "ax.set_xticklabels([\"1-3\", \"2-4\", \"3-5\", \"4-6\"])\n",
    "\n",
    "ax = sns.heatmap([attention_quadrupel], vmin=0, vmax=0.2, cmap=\"Blues\", ax=ax4)\n",
    "ax.set_yticklabels([\"four\"], rotation=True)\n",
    "ax.set_xticklabels([\"1-4\", \"2-5\", \"3-6\"])\n",
    "\n",
    "ax = sns.heatmap([attention_quintuple], vmin=0, vmax=0.2, cmap=\"Blues\", ax=ax5)\n",
    "ax.set_yticklabels([\"five\"], rotation=True)\n",
    "ax.set_xticklabels([\"1-5\", \"2-6\"])\n",
    "\n",
    "ax = sns.heatmap([attention_sixtuple], vmin=0, vmax=0.2, cmap=\"Blues\", ax=ax6)\n",
    "ax.set_yticklabels([\"six\"], rotation=True)\n",
    "ax.set_xticklabels([\"1-6\"])\n",
    "\n",
    "plt.tight_layout()\n",
    "plt.savefig(\"inlp_parameters_attention.pdf\", bbox_inches=\"tight\")\n",
    "plt.show()\n"
   ]
  },
  {
   "cell_type": "code",
   "execution_count": 68,
   "id": "configured-petroleum",
   "metadata": {},
   "outputs": [
    {
     "data": {
      "image/png": "[encoded data removed]",
      "text/plain": [
       "<Figure size 432x648 with 14 Axes>"
      ]
     },
     "metadata": {
      "needs_background": "light"
     },
     "output_type": "display_data"
    }
   ],
   "source": [
    "hidden_single = [0.065, 0.070, 0.130, 0.166, 0.188, 0.102, 0.105]\n",
    "hidden_double = [0.068, 0.183, 0.246, 0.208, 0.219, 0.111]\n",
    "hidden_triple = [0.139, 0.265, 0.286, 0.243, 0.107]\n",
    "hidden_quadrupel = [0.252, 0.309, 0.266, 0.153]\n",
    "hidden_quintuple = [0.276, 0.298, 0.183]\n",
    "hidden_sixtuple = [0.283, 0.2202 ]\n",
    "hidden_septuple = [0.223]\n",
    "\n",
    "fig, (ax1, ax2, ax3, ax4, ax5, ax6, ax7) = plt.subplots(7, 1, figsize=(6, 9))\n",
    "\n",
    "ax = sns.heatmap([hidden_single], vmin=0, vmax=0.3, cmap=\"Blues\", ax=ax1)\n",
    "ax.set_yticklabels([\"one\"], rotation=True)\n",
    "ax.set_xticklabels([\"emb\", 1, 2, 3, 4, 5, 6])\n",
    "\n",
    "ax = sns.heatmap([hidden_double], vmin=0, vmax=0.3, cmap=\"Blues\", ax=ax2)\n",
    "ax.set_yticklabels([\"two\"], rotation=True)\n",
    "ax.set_xticklabels([\"emb-1\", \"1-2\", \"2-3\", \"3-4\", \"4-5\", \"5-6\"])\n",
    "\n",
    "ax = sns.heatmap([hidden_triple], vmin=0, vmax=0.3, cmap=\"Blues\", ax=ax3)\n",
    "ax.set_yticklabels([\"three\"], rotation=True)\n",
    "ax.set_xticklabels([\"emb-2\", \"1-3\", \"2-4\", \"3-5\", \"4-6\"])\n",
    "\n",
    "ax = sns.heatmap([hidden_quadrupel], vmin=0, vmax=0.3, cmap=\"Blues\", ax=ax4)\n",
    "ax.set_yticklabels([\"four\"], rotation=True)\n",
    "ax.set_xticklabels([\"emb-3\", \"1-4\", \"2-5\", \"3-6\"])\n",
    "\n",
    "ax = sns.heatmap([hidden_quintuple], vmin=0, vmax=0.3, cmap=\"Blues\", ax=ax5)\n",
    "ax.set_yticklabels([\"five\"], rotation=True)\n",
    "ax.set_xticklabels([\"emb-4\", \"1-5\", \"2-6\"])\n",
    "\n",
    "ax = sns.heatmap([hidden_sixtuple], vmin=0, vmax=0.3, cmap=\"Blues\", ax=ax6)\n",
    "ax.set_yticklabels([\"six\"], rotation=True)\n",
    "ax.set_xticklabels([\"emb-5\", \"1-6\"])\n",
    "\n",
    "ax = sns.heatmap([hidden_septuple], vmin=0, vmax=0.3, cmap=\"Blues\", ax=ax7)\n",
    "ax.set_yticklabels([\"all\"], rotation=True)\n",
    "ax.set_xticklabels([\"emb-6\"])\n",
    "\n",
    "plt.tight_layout()\n",
    "plt.savefig(\"inlp_parameters_hidden.pdf\", bbox_inches=\"tight\")\n",
    "plt.show()\n"
   ]
  },
  {
   "cell_type": "code",
   "execution_count": 91,
   "id": "gothic-archive",
   "metadata": {},
   "outputs": [
    {
     "data": {
      "image/png": "[encoded data removed]",
      "text/plain": [
       "<Figure size 720x108 with 4 Axes>"
      ]
     },
     "metadata": {
      "needs_background": "light"
     },
     "output_type": "display_data"
    }
   ],
   "source": [
    "import seaborn as sns\n",
    "import matplotlib.pyplot as plt\n",
    "sns.set_context(\"talk\")\n",
    "\n",
    "\n",
    "attention_pie = [0.101, 0.107, 0.109]\n",
    "attention_both = [0.170, 0.196, 0.230]\n",
    "\n",
    "\n",
    "fig, (ax1, ax2) = plt.subplots(1, 2, figsize=(10, 1.5))\n",
    "\n",
    "ax = sns.heatmap([attention_pie], vmin=0, vmax=0.25, cmap=\"Blues\", ax=ax1)\n",
    "ax.set_yticklabels([\"PIE\"], rotation=True)\n",
    "ax.set_xticklabels([\"1-4\", \"2-6\", \"1-6\"])\n",
    "\n",
    "ax = sns.heatmap([attention_both], vmin=0, vmax=0.25, cmap=\"Blues\", ax=ax2)\n",
    "ax.set_yticklabels([\"PIE & non-PIE\"], rotation=True)\n",
    "ax.set_xticklabels([\"1-4\", \"2-6\", \"1-6\"])\n",
    "\n",
    "plt.tight_layout()\n",
    "plt.savefig(\"inlp_parameters_attention2.pdf\", bbox_inches=\"tight\")\n",
    "plt.show()\n"
   ]
  },
  {
   "cell_type": "code",
   "execution_count": null,
   "id": "nominated-tissue",
   "metadata": {},
   "outputs": [],
   "source": []
  }
 ],
 "metadata": {
  "kernelspec": {
   "display_name": "Python 3",
   "language": "python",
   "name": "python3"
  },
  "language_info": {
   "codemirror_mode": {
    "name": "ipython",
    "version": 3
   },
   "file_extension": ".py",
   "mimetype": "text/x-python",
   "name": "python",
   "nbconvert_exporter": "python",
   "pygments_lexer": "ipython3",
   "version": "3.7.1"
  }
 },
 "nbformat": 4,
 "nbformat_minor": 5
}
