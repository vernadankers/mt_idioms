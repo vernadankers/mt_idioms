{
 "cells": [
  {
   "cell_type": "markdown",
   "id": "1649b0c0",
   "metadata": {},
   "source": [
    "## 1. Load the token-level annotations of PIEs"
   ]
  },
  {
   "cell_type": "code",
   "execution_count": 92,
   "id": "812aa7d0",
   "metadata": {},
   "outputs": [
    {
     "name": "stderr",
     "output_type": "stream",
     "text": [
      "/tmp/ipykernel_4441/4154259497.py:21: TqdmDeprecationWarning: This function will be removed in tqdm==5.0.0\n",
      "Please use `tqdm.notebook.tqdm` instead of `tqdm.tqdm_notebook`\n",
      "  for i in tqdm.tqdm_notebook(range(1727)):\n"
     ]
    },
    {
     "data": {
      "application/vnd.jupyter.widget-view+json": {
       "model_id": "be515738c0f34e15899bd2ca34c16da0",
       "version_major": 2,
       "version_minor": 0
      },
      "text/plain": [
       "  0%|          | 0/1727 [00:00<?, ?it/s]"
      ]
     },
     "metadata": {},
     "output_type": "display_data"
    }
   ],
   "source": [
    "import pickle\n",
    "import random\n",
    "import sys\n",
    "from data import Sentence\n",
    "import pickle\n",
    "import numpy as np\n",
    "import torch\n",
    "from transformers import MarianTokenizer, MarianMTModel\n",
    "sys.path.append('../data/')\n",
    "from classifier import Classifier\n",
    "from collections import defaultdict\n",
    "import tqdm\n",
    "from intervene import generate\n",
    "import seaborn as sns\n",
    "import matplotlib.pyplot as plt\n",
    "import matplotlib\n",
    "\n",
    "\n",
    "annotations = dict()\n",
    "pos_tags = dict()\n",
    "for i in tqdm.tqdm_notebook(range(1727)):\n",
    "    for l in open(f\"../data/magpie/inputs/{i}.tsv\", encoding=\"utf-8\").readlines():\n",
    "        s, annotation, _, _, _, pos_tags_ = l.split(\"\\t\")[:6]\n",
    "        annotations[s] = [int(x) for x in annotation.split()]\n",
    "        pos_tags[s] = pos_tags_.split()\n",
    "\n",
    "random.seed(19)"
   ]
  },
  {
   "cell_type": "markdown",
   "id": "38267366",
   "metadata": {},
   "source": [
    "## 2. Load short sentences that were no longer paraphrased after INLP."
   ]
  },
  {
   "cell_type": "code",
   "execution_count": 93,
   "id": "7d2c94bd",
   "metadata": {
    "scrolled": true
   },
   "outputs": [],
   "source": [
    "examples = []\n",
    "\n",
    "for language in [\"nl\", \"de\", \"sv\", \"da\", \"fr\", \"it\", \"es\"]:\n",
    "    data = pickle.load(open(f\"data/{language}/trace_{language}.pickle\", 'rb'))[0]\n",
    "    successes = []\n",
    "    for s, x, y, l in zip(data[\"src\"], data[\"before\"], data[\"after\"], data[\"new_labels\"]):\n",
    "        if l == \"word-by-word\" and len(s.sentence.split()) <= 20:\n",
    "            successes.append((s.sentence, x, y, annotations[s.sentence], pos_tags[s.sentence], language))\n",
    "    #src, tgt1, tgt2 = #\n",
    "    #print(f\"{src}\\\\\\\\\\n{tgt1}\\\\\\\\\\n{tgt2}\\\\\\\\\\n\\\\midrule\")\n",
    "    examples.append(random.choice(successes))"
   ]
  },
  {
   "cell_type": "code",
   "execution_count": 94,
   "id": "e940ac7f",
   "metadata": {},
   "outputs": [],
   "source": [
    "def process(language, folds, sentence, indices_to_affect, noun_index):\n",
    "    classifier = Classifier(\n",
    "        f\"../data/keywords/idiom_keywords_translated_{language}.tsv\")\n",
    "    mname = f\"Helsinki-NLP/opus-mt-en-{language}\"\n",
    "    tokenizer = MarianTokenizer.from_pretrained(mname)\n",
    "    model = MarianMTModel.from_pretrained(mname)\n",
    "    model.eval()\n",
    "    for fold in folds:\n",
    "        hidden_projection_matrices = []\n",
    "        attention_projection_matrices = []\n",
    "\n",
    "        for layer in range(7):\n",
    "            if layer in [0,1, 2, 3, 4]:\n",
    "                P = pickle.load(\n",
    "                    open(f\"projection_matrices/{language}_hidden_fold={fold}_layer\" +\n",
    "                         f\"={layer}_baseline=False_classifiers=50.pickle\", 'rb'))\n",
    "            else:\n",
    "                P = None\n",
    "            hidden_projection_matrices.append(P)\n",
    "            attention_projection_matrices.append(None)\n",
    "\n",
    "        # Translate without the projection matrices\n",
    "        without_projection, attention_without = generate(\n",
    "            model, tokenizer, sentence, gather_attention=True)\n",
    "\n",
    "        # Translate with the projection matrices\n",
    "        with_projection, attention_with = generate(\n",
    "            model, tokenizer, sentence, projection=True,\n",
    "            attention_projection_indices=[],\n",
    "            attention_projection_matrices=attention_projection_matrices,\n",
    "            hidden_projection_indices=torch.LongTensor(indices_to_affect),\n",
    "            hidden_projection_matrices=hidden_projection_matrices,\n",
    "            gather_attention=True)\n",
    "\n",
    "        print(without_projection)\n",
    "        print(with_projection)\n",
    "\n",
    "        sns.set_context(\"talk\")\n",
    "        plt.figure(figsize=(4, 1))\n",
    "        before = torch.FloatTensor(attention_without).squeeze(1).mean(0).mean(0)\n",
    "        before = before[min(indices_to_affect):max(indices_to_affect) + 1, index]\n",
    "        after = torch.FloatTensor(attention_with).squeeze(1).mean(0).mean(0)\n",
    "        after = after[min(indices_to_affect):max(indices_to_affect) + 1, index]\n",
    "        heatmap = (after - before) / after\n",
    "        ax = sns.heatmap(heatmap.unsqueeze(-1).transpose(0, 1),\n",
    "            cmap=\"coolwarm\", vmin=-.3, vmax=.3)\n",
    "        im = ax.collections[0]\n",
    "        rgba_values = im.cmap(im.norm(im.get_array()))\n",
    "        for x in rgba_values:\n",
    "            print(matplotlib.colors.to_hex(x)[1:])\n",
    "        plt.show()\n",
    "        print(tokenizer.tokenize(sentence)[min(indices_to_affect):max(indices_to_affect) + 1])\n",
    "        print(heatmap)"
   ]
  },
  {
   "cell_type": "markdown",
   "id": "4adb2791",
   "metadata": {},
   "source": [
    "## 3. Print example sentences with the colour codes for how attention changes."
   ]
  },
  {
   "cell_type": "code",
   "execution_count": 95,
   "id": "cb99066d",
   "metadata": {},
   "outputs": [
    {
     "name": "stdout",
     "output_type": "stream",
     "text": [
      "The trouble is, we don't see eye to eye, or, more correctly, our minds move in different channels.\n",
      "Het probleem is dat we het niet met elkaar eens zijn... of dat onze geest in verschillende kanalen beweegt.</s>\n",
      "Het probleem is, we zien geen oog tegen oog, of, meer correct, onze gedachten bewegen in verschillende kanalen.</s>\n",
      "3b4cc0\n",
      "f7ac8e\n",
      "cad8ef\n",
      "e9d5cb\n",
      "b40426\n"
     ]
    },
    {
     "data": {
      "image/png": "[encoded data removed]",
      "text/plain": [
       "<Figure size 288x72 with 2 Axes>"
      ]
     },
     "metadata": {
      "needs_background": "light"
     },
     "output_type": "display_data"
    },
    {
     "name": "stdout",
     "output_type": "stream",
     "text": [
      "['▁see', '▁eye', '▁to', '▁eye', ',']\n",
      "tensor([-0.3552,  0.1218, -0.0413,  0.0291,  0.3284])\n",
      "A VISIT to Sellafield by the Fleetwood branch of the Salvation Army has broken new ground at the site.\n",
      "Ein VISIT nach Sellafield durch den Fleetwood-Zweig der Heilsarmee hat am Standort neue Wege eingeschlagen.</s>\n",
      "Ein VISIT nach Sellafield durch den Fleetwood-Zweig der Heilsarmee hat am Standort einen neuen Boden eingeschlagen.</s>\n",
      "a6c4fe\n",
      "ccd9ed\n",
      "dddcdc\n"
     ]
    },
    {
     "data": {
      "image/png": "[encoded data removed]",
      "text/plain": [
       "<Figure size 288x72 with 2 Axes>"
      ]
     },
     "metadata": {
      "needs_background": "light"
     },
     "output_type": "display_data"
    },
    {
     "name": "stdout",
     "output_type": "stream",
     "text": [
      "['▁broken', '▁new', '▁ground']\n",
      "tensor([-0.1072, -0.0369,  0.0022])\n",
      "( Vocal communication is out of the question till after the third cup of coffee. )\n",
      "( Vokal kommunikation är uteslutet till efter den tredje koppen kaffe.)</s>\n",
      "( Vokal kommunikation är ute ur frågan tills efter den tredje koppen kaffe.)</s>\n",
      "3b4cc0\n",
      "3b4cc0\n",
      "aec9fc\n",
      "eed0c0\n"
     ]
    },
    {
     "data": {
      "image/png": "[encoded data removed]",
      "text/plain": [
       "<Figure size 288x72 with 2 Axes>"
      ]
     },
     "metadata": {
      "needs_background": "light"
     },
     "output_type": "display_data"
    },
    {
     "name": "stdout",
     "output_type": "stream",
     "text": [
      "['▁out', '▁of', '▁the', '▁question']\n",
      "tensor([-0.4543, -0.3193, -0.0937,  0.0464])\n",
      "But responsive, strategic managership is absent across the board in Britain.\n",
      "Men lydhør, strategisk lederskab er fraværende over hele linjen i Storbritannien.</s>\n",
      "Men lydhør, strategisk lederskab er fraværende på tværs af bestyrelsen i Storbritannien.</s>\n",
      "3b4cc0\n",
      "9dbdff\n",
      "e3d9d3\n"
     ]
    },
    {
     "data": {
      "image/png": "[encoded data removed]",
      "text/plain": [
       "<Figure size 288x72 with 2 Axes>"
      ]
     },
     "metadata": {
      "needs_background": "light"
     },
     "output_type": "display_data"
    },
    {
     "name": "stdout",
     "output_type": "stream",
     "text": [
      "['▁across', '▁the', '▁board']\n",
      "tensor([-0.3355, -0.1228,  0.0141])\n",
      "We stopped beside a autobank, which was out of order.\n",
      "Nous nous sommes arrêtés à côté d'une autobanque, ce qui était hors service.</s>\n",
      "Nous nous sommes arrêtés à côté d'une autobanque, ce qui n'était pas de l'ordre.</s>\n",
      "3b4cc0\n",
      "4055c8\n",
      "f7b093\n",
      "d95847\n"
     ]
    },
    {
     "data": {
      "image/png": "[encoded data removed]",
      "text/plain": [
       "<Figure size 288x72 with 2 Axes>"
      ]
     },
     "metadata": {
      "needs_background": "light"
     },
     "output_type": "display_data"
    },
    {
     "name": "stdout",
     "output_type": "stream",
     "text": [
      "['▁out', '▁of', '▁order', '.']\n",
      "tensor([-0.6019, -0.2865,  0.1138,  0.2332])\n",
      "The two went hand in hand until the later nineteenth century.\n",
      "I due andarono di pari passo fino al XIX secolo.</s>\n",
      "I due sono andati mano nella mano fino al XIX secolo successivo.</s>\n",
      "4961d2\n",
      "c4d5f3\n",
      "e5d8d1\n",
      "f7b194\n"
     ]
    },
    {
     "data": {
      "image/png": "[encoded data removed]",
      "text/plain": [
       "<Figure size 288x72 with 2 Axes>"
      ]
     },
     "metadata": {
      "needs_background": "light"
     },
     "output_type": "display_data"
    },
    {
     "name": "stdout",
     "output_type": "stream",
     "text": [
      "['▁went', '▁hand', '▁in', '▁hand']\n",
      "tensor([-0.2709, -0.0533,  0.0202,  0.1120])\n",
      "Then, brisk again, ' I 'll bear it in mind. '\n",
      "Entonces, rápido de nuevo, ' Lo tendré en cuenta. '</s>\n",
      "Entonces, anímate de nuevo, 'Lo tendré en mente'.</s>\n",
      "3b4cc0\n",
      "f4c6af\n",
      "3b4cc0\n",
      "f7b194\n",
      "b40426\n"
     ]
    },
    {
     "data": {
      "image/png": "[encoded data removed]",
      "text/plain": [
       "<Figure size 288x72 with 2 Axes>"
      ]
     },
     "metadata": {
      "needs_background": "light"
     },
     "output_type": "display_data"
    },
    {
     "name": "stdout",
     "output_type": "stream",
     "text": [
      "['▁bear', '▁it', '▁in', '▁mind', '.']\n",
      "tensor([-0.3589,  0.0717, -0.7764,  0.1120,  0.4138])\n"
     ]
    }
   ],
   "source": [
    "for src, tgt1, tgt2, annotation, tag_set, language in examples:\n",
    "    print(src)\n",
    "    mname = f\"Helsinki-NLP/opus-mt-en-{language}\"\n",
    "    tokenizer = MarianTokenizer.from_pretrained(mname)\n",
    "    tokenised_annotations = []\n",
    "    tokenised_pos_tags = []\n",
    "    for w, a, p in zip(src.split(), annotation, tag_set):\n",
    "        tokenised_annotations.extend([a] * len(tokenizer.tokenize(w)))\n",
    "        if \"suit\" in w:\n",
    "            p = \"NOUN\"\n",
    "        tokenised_pos_tags.extend([p] + [None] * (len(tokenizer.tokenize(w)) - 1))\n",
    "    indices_to_affect = [i for i, x in enumerate(tokenised_annotations) if x == 1]\n",
    "    index = [i for i, (x, p) in enumerate(zip(tokenised_annotations, tokenised_pos_tags)) if x == 1 and p == \"NOUN\"][0]\n",
    "    process(language, [0], src, indices_to_affect, index)"
   ]
  },
  {
   "cell_type": "markdown",
   "id": "45c7d1a6",
   "metadata": {},
   "source": [
    "### Color bar to put on top of the figure"
   ]
  },
  {
   "cell_type": "code",
   "execution_count": 114,
   "id": "523f0bbb",
   "metadata": {},
   "outputs": [
    {
     "data": {
      "image/png": "[encoded data removed]",
      "text/plain": [
       "<Figure size 72x648 with 2 Axes>"
      ]
     },
     "metadata": {},
     "output_type": "display_data"
    }
   ],
   "source": [
    "import pylab as pl\n",
    "import numpy as np\n",
    "sns.set(font_scale=3)\n",
    "a = np.array([[0,1]])\n",
    "pl.figure(figsize=(1, 9))\n",
    "img = pl.imshow(a, cmap=\"coolwarm\")\n",
    "pl.gca().set_visible(False)\n",
    "cax = pl.axes([-0.1, 0.2, 0.8, 0.6])\n",
    "ax = pl.colorbar(orientation=\"vertical\", cax=cax, ticks=[0, 0.25, 0.5, 0.75, 1])\n",
    "ax.ax.set_yticklabels([\"-30%\", \"-15%\", \"0%\", \"+15%\", \"+30%\"])\n",
    "pl.savefig(\"colorbar.png\", transparent=True, bbox_inches=\"tight\")"
   ]
  },
  {
   "cell_type": "code",
   "execution_count": null,
   "id": "9c85d38e",
   "metadata": {},
   "outputs": [],
   "source": []
  },
  {
   "cell_type": "code",
   "execution_count": null,
   "id": "4688fc78",
   "metadata": {},
   "outputs": [],
   "source": []
  }
 ],
 "metadata": {
  "kernelspec": {
   "display_name": "Python 3",
   "language": "python",
   "name": "python3"
  },
  "language_info": {
   "codemirror_mode": {
    "name": "ipython",
    "version": 3
   },
   "file_extension": ".py",
   "mimetype": "text/x-python",
   "name": "python",
   "nbconvert_exporter": "python",
   "pygments_lexer": "ipython3",
   "version": "3.8.8"
  }
 },
 "nbformat": 4,
 "nbformat_minor": 5
}
